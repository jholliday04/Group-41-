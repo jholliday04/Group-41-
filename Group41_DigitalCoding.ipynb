{
 "cells": [
  {
   "cell_type": "markdown",
   "id": "13762516-8591-4848-9a81-d96f51c10fcf",
   "metadata": {},
   "source": [
    "Group 41 digital coding"
   ]
  }
 ],
 "metadata": {
  "kernelspec": {
   "display_name": "",
   "name": ""
  },
  "language_info": {
   "name": ""
  }
 },
 "nbformat": 4,
 "nbformat_minor": 5
}
